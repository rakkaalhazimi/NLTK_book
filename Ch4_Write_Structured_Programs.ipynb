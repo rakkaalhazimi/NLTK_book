{
 "cells": [
  {
   "cell_type": "markdown",
   "metadata": {},
   "source": [
    "# Doing More With Functions"
   ]
  },
  {
   "cell_type": "code",
   "execution_count": 1,
   "metadata": {},
   "outputs": [],
   "source": [
    "import nltk, re"
   ]
  },
  {
   "cell_type": "markdown",
   "metadata": {},
   "source": [
    "### Functions as Arguments\n",
    "So far the arguments we have passed into functions have been simple objects like strings, or structured objects like lists. Python also lets us pass a function as an argument to another function. Now we can abstract out the operation, and apply a different operation on the same data. As the following examples show, we can pass the built-in function len() or a user-defined function last_letter() as arguments to another function:"
   ]
  },
  {
   "cell_type": "code",
   "execution_count": 2,
   "metadata": {},
   "outputs": [
    {
     "data": {
      "text/plain": [
       "['e', 'e', 'f', 'e', 'e', ',', 'd', 'e', 's', 'l', 'e', 'e', 'f', 's', '.']"
      ]
     },
     "execution_count": 2,
     "metadata": {},
     "output_type": "execute_result"
    }
   ],
   "source": [
    "sent = ['Take', 'care', 'of', 'the', 'sense', ',', 'and', 'the', \n",
    "        'sounds', 'will', 'take', 'care', 'of', 'themselves', '.']\n",
    "\n",
    "def extract_property(prop):\n",
    "    return [prop(word) for word in sent]\n",
    "\n",
    "def last_letter(word):\n",
    "    return word[-1]\n",
    "\n",
    "extract_property(last_letter)"
   ]
  },
  {
   "cell_type": "code",
   "execution_count": 3,
   "metadata": {},
   "outputs": [
    {
     "data": {
      "text/plain": [
       "['e', 'e', 'f', 'e', 'e', ',', 'd', 'e', 's', 'l', 'e', 'e', 'f', 's', '.']"
      ]
     },
     "execution_count": 3,
     "metadata": {},
     "output_type": "execute_result"
    }
   ],
   "source": [
    "extract_property(lambda x: x[-1])"
   ]
  },
  {
   "cell_type": "markdown",
   "metadata": {},
   "source": [
    "### Debugging Techniques\n",
    "Since most code errors result from the programmer making incorrect assumptions, the first thing to do when you detect a bug is to check your assumptions. Localize the problem by adding print statements to the program, showing the value of important variables, and showing how far the program has progressed."
   ]
  },
  {
   "cell_type": "code",
   "execution_count": 5,
   "metadata": {},
   "outputs": [
    {
     "data": {
      "text/plain": [
       "['omg', 'teh', 'teh', 'mat']"
      ]
     },
     "execution_count": 5,
     "metadata": {},
     "output_type": "execute_result"
    }
   ],
   "source": [
    "def find_words(text, wordlength, result=[]):\n",
    "     for word in text:\n",
    "         if len(word) == wordlength:\n",
    "             result.append(word)\n",
    "     return result\n",
    "\n",
    "find_words(['omg', 'teh', 'lolcat', 'sitted', 'on', 'teh', 'mat'], 3)"
   ]
  },
  {
   "cell_type": "code",
   "execution_count": 6,
   "metadata": {},
   "outputs": [
    {
     "data": {
      "text/plain": [
       "['omg', 'teh', 'teh', 'mat', 'omg', 'teh', 'teh', 'mat']"
      ]
     },
     "execution_count": 6,
     "metadata": {},
     "output_type": "execute_result"
    }
   ],
   "source": [
    "find_words(['omg', 'teh', 'lolcat', 'sitted', 'on', 'teh', 'mat'], 3)"
   ]
  },
  {
   "cell_type": "code",
   "execution_count": null,
   "metadata": {
    "scrolled": true
   },
   "outputs": [
    {
     "name": "stdout",
     "output_type": "stream",
     "text": [
      "> <string>(1)<module>()\n",
      "(Pdb) \n",
      "(Pdb) \n",
      "(Pdb) \n",
      "(Pdb) \n"
     ]
    }
   ],
   "source": [
    "import pdb\n",
    "\n",
    "pdb.run(\"find_words(['dog'], 3)\")"
   ]
  },
  {
   "cell_type": "markdown",
   "metadata": {},
   "source": [
    "## Algorithm Design"
   ]
  },
  {
   "cell_type": "markdown",
   "metadata": {},
   "source": [
    "### Recursion"
   ]
  },
  {
   "cell_type": "markdown",
   "metadata": {},
   "source": [
    "We can use recursion to navigate a deeply-nested object, such as the WordNet hypernym hierarchy. Let's count the size of the hypernym hierarchy rooted at a given synset s. We'll do this by finding the size of each hyponym of s, then adding these together (we will also add 1 for the synset itself). The following function size1() does this work; notice that the body of the function includes a recursive call to size1():"
   ]
  },
  {
   "cell_type": "code",
   "execution_count": null,
   "metadata": {},
   "outputs": [],
   "source": [
    "def size1(s):\n",
    "    return 1 + sum(size1(child) for child in s.hyponyms())"
   ]
  },
  {
   "cell_type": "markdown",
   "metadata": {},
   "source": [
    "We can also design an iterative solution to this problem which processes the hierarchy in layers. The first layer is the synset itself [1], then all the hyponyms of the synset, then all the hyponyms of the hyponyms. Each time through the loop it computes the next layer by finding the hyponyms of everything in the last layer [3]. It also maintains a total of the number of synsets encountered so far [2]."
   ]
  },
  {
   "cell_type": "code",
   "execution_count": null,
   "metadata": {},
   "outputs": [],
   "source": [
    "def size2(s):\n",
    "    layer = [s]\n",
    "    total = 0\n",
    "    while layer:\n",
    "        total += len(layer)\n",
    "        layer = [h for c in layer for h in c.hyponyms()]\n",
    "    return total"
   ]
  },
  {
   "cell_type": "code",
   "execution_count": 18,
   "metadata": {},
   "outputs": [
    {
     "data": {
      "text/plain": [
       "190"
      ]
     },
     "execution_count": 18,
     "metadata": {},
     "output_type": "execute_result"
    }
   ],
   "source": [
    "from nltk.corpus import wordnet as wn\n",
    "dog = wn.synset(\"dog.n.01\")\n",
    "size1(dog)"
   ]
  },
  {
   "cell_type": "code",
   "execution_count": 19,
   "metadata": {},
   "outputs": [
    {
     "data": {
      "text/plain": [
       "190"
      ]
     },
     "execution_count": 19,
     "metadata": {},
     "output_type": "execute_result"
    }
   ],
   "source": [
    "size2(dog)"
   ]
  },
  {
   "cell_type": "markdown",
   "metadata": {},
   "source": [
    "### Space-Time Tradeoffs\n",
    "We can sometimes significantly speed up the execution of a program by building an auxiliary data structure, such as an index. The listing in 4.10 implements a simple text retrieval system for the Movie Reviews Corpus. By indexing the document collection it provides much faster lookup."
   ]
  },
  {
   "cell_type": "code",
   "execution_count": 42,
   "metadata": {
    "collapsed": true
   },
   "outputs": [
    {
     "name": "stdout",
     "output_type": "stream",
     "text": [
      "Building Index...\n",
      "query> kill\n",
      " victims being brutalized and killed on camera . i'm talking\n",
      "angry that they would like to kill him and sell him for mill\n",
      "angry that they would like to kill him and sell him for mill\n",
      "o the next , stopping only to kill the characters which are \n",
      "t fine since the character is killed in a near-riot , and ru\n",
      "t after a pair of lions start killing off the workers in 189\n",
      "t after a pair of lions start killing off the workers in 189\n",
      "gain , and jake asks bobby to kill grace . a little while la\n",
      "gain , and jake asks bobby to kill grace . a little while la\n",
      "roposition : he'll pay him to kill his lovely wife . mortens\n",
      "bought us carrie , dressed to kill and mission : impossible \n",
      "e of her friends accidentally kill a man , running him down \n",
      "adeleine travels to venice to kill herself . while preparing\n",
      "                    \" love to kill \" starts off aimlessly an\n",
      "                    \" love to kill \" starts off aimlessly an\n",
      "                    \" love to kill \" starts off aimlessly an\n",
      "                    \" love to kill \" starts off aimlessly an\n",
      "mail the information , but is killed in a reckless car accid\n",
      "quickly change his previous \" kill as many indians as i can \n",
      " find a third roomie who will kill himself , since the schoo\n",
      "e believes that he's going to kill himself ( hardy-har-har )\n",
      "ter him with guns , trying to kill him . and in one key scen\n",
      "shouted out \" i hope she gets killed now ! \" at that point i\n",
      "agic left in his directorial skills when he created the bril\n",
      "agic left in his directorial skills when he created the bril\n",
      "agic left in his directorial skills when he created the bril\n",
      "egends . examples include the killer in the backseat of the \n",
      "scientist ( john glover ) who kills her when she finds out h\n",
      "scientist ( john glover ) who kills her when she finds out h\n",
      "ho is wrongfully convicted of killing her husband while out \n",
      " to find out who's willing to kill to keep that secret burie\n",
      "tantly looks like he wants to kill his agent for getting him\n",
      "educe men with her breath and kill them with a kiss . thurma\n",
      "des and machine guns that can kill dozens in a matter of sec\n",
      "eprograms will's pet robot to kill the robinsons , my friend\n",
      "s movie , the ninja manage to kill just about everyone excep\n",
      "ople than your average serial killer . nobody can save this \n",
      "ople than your average serial killer . nobody can save this \n",
      "f he can't have her , he will kill her . oh , the pathos of \n",
      "e call his martial-arts-star skills into question . the prob\n",
      " it seems , the bugs actually kill with cosmic farts . a phe\n",
      "his final job requires him to kill a policeman's seven year \n",
      "his final job requires him to kill a policeman's seven year \n",
      "r and driven by the desire to kill nick ( based on the theor\n",
      "cientist to be an unstoppable killing machine , and this rog\n",
      "cientist to be an unstoppable killing machine , and this rog\n",
      "cientist to be an unstoppable killing machine , and this rog\n",
      "ng everywhere , attempting to kill simon at the hospital , o\n",
      "culous \" since we're going to kill you anyway , why not tell\n",
      " survive , robs a loan back , kills the loan officer and run\n",
      "l estate business , is out to kill him for dumping her for h\n",
      "powers 3 \" , they should just kill off secret agent powers a\n",
      "dren and genetically enhanced killer animals' instead , as m\n",
      "dren and genetically enhanced killer animals' instead , as m\n",
      " at times seems to be highly skilled in specific fields , an\n",
      "h their demands , before they kill his daughter . pretty goo\n",
      "tthew mcconaughey ( a time to kill ) and renee zellweger ( j\n",
      "y robotic animals that try to kill our heroes . alas , it re\n",
      "y robotic animals that try to kill our heroes . alas , it re\n",
      "ing he wants to find girl and kill her . but as soon as boy \n",
      "h of slug-like creatures that kill people and take over thei\n",
      "gh-schoolers who accidentally kill their best friend in a bi\n",
      "fall . comments : tracks of a killer had a couple of strikes\n",
      "nowhere . a gang of jellyfish kills one of the navy personne\n",
      "somewhat diverting action timekiller . tsui continues to ene\n",
      " murder in \" scream 3 , \" the killer leaves a photo of sidne\n",
      "limited amount of stuff , and kill a bunch of guys , then th\n",
      "otched when stavros' son gets killed in the gunfire , and qu\n",
      "otched when stavros' son gets killed in the gunfire , and qu\n",
      " pay attention to her acting skills . i mean , she shows off\n",
      "ng , leaving a lot of time to kill with the tedious reconcil\n",
      "ing , if anything . a time to kill has been hailed as the be\n",
      "ing , if anything . a time to kill has been hailed as the be\n",
      "ie about people who go around killing others who attack them\n",
      "ie about people who go around killing others who attack them\n",
      "ie about people who go around killing others who attack them\n",
      " hush \" \" stop or my mom will kill . \" or \" mommy fearest . \n",
      "bats come out in full force , killing several townsfolk . a \n",
      "ter's wife isabelle adjani to kill adjani's thoroughly unlik\n",
      "on because he doesn't want to kill himself . while there , h\n",
      " later that night attempts to kill him by shooting up the ho\n",
      "kers , \" that they expand and kill and that we should all ju\n",
      "out of his head so it doesn't kill him . handled right , thi\n",
      "e doesn't snipe or make clean kills--he just kicks the door \n",
      " to seek out each of them and kill them if they don't have w\n",
      "hot-young-no-experience-never-killed-a-man new partner to ta\n",
      " tragedy , when the criminals kill foley's boss . determined\n",
      " ( or in some cases trying to kill her ) , and satan ( gabri\n",
      " ( or in some cases trying to kill her ) , and satan ( gabri\n",
      "ed again . so , she helps him kill three businessmen . scumb\n",
      "mingly unstoppable monster to kill them one by one . these h\n",
      "eezing the entire world would kill her precious plants too ?\n",
      "-cheek manner . it's a serial killer/horror film farce of no\n",
      "ally pulling for the beast to kill more of them . emmerich d\n",
      "ble 2 director john woo ( the killer , hard boiled , face of\n",
      "oing on . he then proceeds to kill the unconscious victim by\n",
      "\" franchise , but \" a time to kill \" was an immensely overra\n",
      "\" franchise , but \" a time to kill \" was an immensely overra\n",
      "\" franchise , but \" a time to kill \" was an immensely overra\n",
      " return , sets out himself to kill the highlander . if you h\n",
      " return , sets out himself to kill the highlander . if you h\n",
      " return , sets out himself to kill the highlander . if you h\n",
      "ike those idiot frat boys who kill themselves drinking ; the\n",
      "test , that nasa is trying to kill the president by causing \n",
      "ychopath with a propensity to kill men that get too close to\n",
      "geous playmate with a rack to kill for and who obviously has\n",
      " much so , that when dizzy is killed , she says it's ok beca\n",
      "even's new york apartment and kill emily . ( of course , aft\n",
      "alers . even such unstoppable killing machine like kersey ne\n",
      " army of the 12 monkeys , and kill him . well , this explana\n",
      " the client \" and \" a time to kill \" ) and two batman movies\n",
      "l start hoping for someone to kill somebody . elizabeth berk\n",
      "er and ironic - a guy who can kill without any moral implica\n",
      "m his evil counterpart out to kill her is done , and it's be\n",
      "s schemes are nasty enough to kill . but , because this is a\n",
      "icrous . why bother trying to kill the kid . . . i mean , wh\n",
      "ou wait for the characters to kill each other . the show has\n",
      "hree other brothers were just killed in fighting elsewhere )\n",
      "ery little of it ) , wouldn't kill in front of children and \n",
      " fight , fall in love , die , kill , and try to act . natura\n",
      "es when a bad guy prepares to kill harry and nina . we're su\n",
      "he somewhat reluctant vampire killers who seem to be the onl\n",
      "ng . take this film , \" naked killer \" , among it's ingredie\n",
      "ndfather , to die . . . so he kills him and ascends to the t\n",
      "ndfather , to die . . . so he kills him and ascends to the t\n",
      "s like a desperate attempt to kill screen time . with any fi\n",
      " household item with which to kill someone until the sequel \n",
      "ng so good ( though , he does kill some fish in the aquarium\n",
      "nd then tells him his plan to kill her while vacationing in \n",
      "fulfill terry's death wish by killing him . this is a promis\n",
      "iests believe she ought to be killed . in new york , that ve\n",
      "iests believe she ought to be killed . in new york , that ve\n",
      "formation is the commodity to kill for . front and center is\n",
      "r bad sly film ) accidentally killed some innocent people du\n",
      "r bad sly film ) accidentally killed some innocent people du\n",
      " that his love will literally kill him , as evidenced in a s\n",
      "ou diamond phillips ) have to kill all the bats and save the\n",
      "cause half the people want to kill the croc and the other ha\n",
      "g - and everything - that can kill you . he works at a zoo w\n",
      "part : most horror films have killings . for some reason , t\n",
      " crises \" ( such as trying to kill bugs--how hilarious ) ; r\n",
      "e scene where the bad guy can kill the hero but proceeds to \n",
      "has to protect the innocent , kill the bad guy , and not get\n",
      "has to protect the innocent , kill the bad guy , and not get\n",
      "has to protect the innocent , kill the bad guy , and not get\n",
      "has to protect the innocent , kill the bad guy , and not get\n",
      " comedy does little more than kill time . the story deals wi\n"
     ]
    },
    {
     "name": "stdout",
     "output_type": "stream",
     "text": [
      "e blows up a lot of stuff and kills a bunch of people . so w\n",
      "ohn connor from a newer model killing machine , the t-1000 ;\n",
      "lfriend so much you wanted to kill her ? \" over and over unt\n",
      " bunch of people in texas get killed , so a sheriff guy and \n",
      "offer david half a million to kill his wife . the artist acc\n",
      "offer david half a million to kill his wife . the artist acc\n",
      "offer david half a million to kill his wife . the artist acc\n",
      " two hit men are preparing to kill clint eastwood when he ar\n",
      "l schumacher has successfully killed this cash cow . what ma\n",
      "ing to prove that she did not kill her spouse . the fugitive\n",
      "ing to prove that she did not kill her spouse . the fugitive\n",
      " and constrictor snakes don't kill what they can't eat , d )\n",
      " and constrictor snakes don't kill what they can't eat , d )\n",
      "ded - \" screw it , let's just kill everybody \" . from then o\n",
      "y run into pirates who try to kill them . ? oh , yes ! ? i f\n",
      "inators , whose purpose is to kill most of the other outland\n",
      "atter if the hostage tried to kill him earlier ? unfortunate\n",
      "vered the one and only way to kill a `toon . ' `who framed r\n",
      "s that moving the ba'ku would kill them ( it also helps that\n",
      "at kid \" they say \" i'm gonna kill that kid . \" some might a\n",
      "ve been disastrous : a serial killer that would have died ha\n",
      " jet li , whose martial arts skill is nothing less than impr\n",
      ". on one of the heists , they kill a bank officer who pushes\n",
      "into the picture to comically kill them off . with a running\n",
      "my really would be willing to kill for someone like suzanne \n",
      "to everyone's terror , she is killed . as robert puts it : \"\n",
      "own . after hiring someone to kill him , he completely chang\n",
      "own . after hiring someone to kill him , he completely chang\n",
      "these characters could be the killer -- or for that matter ,\n",
      "y , is revealed . did dolores kill her husband ? and did she\n",
      "y , is revealed . did dolores kill her husband ? and did she\n",
      "gster who looks like a serial killer . but then again , he p\n",
      "ople , as it implies how they kill the spirit of everything \n",
      "alous and eventually tries to kill them . oh yeah , and the \n",
      " day in every scene , gets to kill a bad guy in the end , bu\n",
      "t to look more like a time to kill . and that , my friends ,\n",
      "me thing , i guess ) , and is killed in france ( in the movi\n",
      " that the bomb was planted to kill the boy , and mulder and \n",
      "ous actions , he's willing to kill anyone who stands in the \n",
      " temp . chad moves in for the kill , flashing his golden boy\n",
      "played by ironside , wants to kill him . quaid , now hopeles\n",
      "who looks like anything but a killer but specializes in play\n",
      " the survivors from aliens is killed . ripley is discovered \n",
      "for his loved ones and a \" to kill \" list for his enemies . \n",
      "for his loved ones and a \" to kill \" list for his enemies . \n",
      "jack the plane threatening to kill a hostage every half hour\n",
      "hen actually he wants them to kill her . and the fun starts \n",
      "naire who , though needing to kill people to live , is visit\n",
      "ogical dirty drawers ( okay , kill me ) . shallow though it \n",
      "o counteract the phantoms and kill them off . while the imag\n",
      " and psychotically decides to kill her . these proceedings a\n",
      "s of the russian mob brutally kill a prostitute while filmin\n",
      "ilm depicts a vicious vampire killer that uses every single \n",
      "fference between battling and killing . the film opens with \n",
      "police force is now trying to kill keaton , while garcia is \n",
      "police force is now trying to kill keaton , while garcia is \n",
      "police force is now trying to kill keaton , while garcia is \n",
      "fter struggling with the real killer , a man with an artific\n",
      "we possibly explain having to kill him . . . let him live . \n",
      "we possibly explain having to kill him . . . let him live . \n",
      "ging for peace . louis cannot kill with the impunity of lest\n",
      "ging for peace . louis cannot kill with the impunity of lest\n",
      "cenes in films like a time to kill ? if you wanted to but di\n",
      "er than , say , \" a view to a kill \" or either of the timoth\n",
      "es ( alien bad , find alien , kill alien ) , but i can hones\n",
      " sorry for the guys he has to kill . crystal is just the opp\n",
      " grisham's series , a time to kill , was made into a major m\n",
      " grisham's series , a time to kill , was made into a major m\n",
      " grisham's series , a time to kill , was made into a major m\n",
      "lues aside from martial arts skills . but , in the same time\n",
      "dy dead , so you can't really kill it . the only way to defe\n",
      "ingly as , say , natural born killers , 8 mm stays in your h\n",
      "ingly as , say , natural born killers , 8 mm stays in your h\n",
      "n penner ) and pete , zack is killed . the roommates are at \n",
      ". unlike the sleek , muscular killing machines one is accust\n",
      "t \" i wonder how anyone could kill a living thing \" will hav\n",
      "es , a survivor of the serial killer that attempted to kill \n",
      "es , a survivor of the serial killer that attempted to kill \n",
      "f course we all know sunshine kills vampires , and that is j\n",
      "f course we all know sunshine kills vampires , and that is j\n",
      "s to his men how a bullet can kill simply paves the way for \n",
      "                 natural born killers is really a very simpl\n",
      "                 natural born killers is really a very simpl\n",
      "                 natural born killers is really a very simpl\n",
      "                 natural born killers is really a very simpl\n",
      "                 natural born killers is really a very simpl\n",
      "                 natural born killers is really a very simpl\n",
      "                 natural born killers is really a very simpl\n",
      "                 natural born killers is really a very simpl\n",
      "                 natural born killers is really a very simpl\n",
      "                 natural born killers is really a very simpl\n",
      "                 natural born killers is really a very simpl\n",
      "                 natural born killers is really a very simpl\n",
      "                 natural born killers is really a very simpl\n",
      "                 natural born killers is really a very simpl\n",
      "nt some advice on effective \" kill scenes \" , do not look an\n",
      " cat and mouse game trying to kill each other . they constan\n",
      ", though , the vampires still kill and die with a bloody flo\n",
      "ective ( m . emmet walsh ) to kill his wife abby ( frances m\n",
      ") becomes alive and is out to kill the ones who opened and r\n",
      "leopard , sabor , attacks and kills tarzan's parents , leavi\n",
      "n and intelligence . \" serial killer chic \" is a relatively \n",
      " let him die . don't let them kill him . let him die on his \n",
      "e headlines . arab terrorists kill american citizens abroad \n",
      " two guys whose task it is to kill his wife . this man , thi\n",
      "tiny people , he enlists the skills of exterminator jeff ( m\n",
      "oons search for the money and kill several people in the pro\n",
      " say that she doesn't want to kill him , but the possibility\n",
      " he will be able to catch the killer ? somersets new partner\n",
      "know that flick needs them to kill a bunch of grasshoppers ,\n",
      "g shoot-out , where he has to kill a couple people to surviv\n",
      "s come to earth to attempt to kill two ambassadors . and it \n",
      "laring gaps where her social skills should be . her instinct\n",
      "er to save everyone they must kill the \" queen \" alien , man\n",
      "   did claus von bulow try to kill his wife sunny in their n\n",
      "biggest cliches of any serial killer film is also one of the\n",
      "uns , seduce a few guys , and kill a few people for money an\n",
      "uns , seduce a few guys , and kill a few people for money an\n",
      " him after lefty was ready to kill him . it's clear donnie i\n",
      " ( doug hutchison , a time to kill ) , is a young and sadist\n",
      "ren't gay oscar , i'd have to kill you , \" are muttered flam\n",
      "part of a shady lobby deal to kill a threatening bill in com\n",
      "part of a shady lobby deal to kill a threatening bill in com\n",
      "and once and for all tries to kill the crazy psycho ! and th\n",
      "far . consider it a view to a kill made abstract . a proper \n",
      "a sandra bullock in a time to kill ) along with her detached\n",
      "ly know matter how strong or skilled you are , you're going \n",
      "ly know matter how strong or skilled you are , you're going \n",
      "d with lovely performances , skillful direction and topped o\n",
      "ntertainment ( note to self : kill whomever was in charge of\n",
      "m to accept communist rule or kill him is an outstanding mom\n",
      "s and action films where they kill innocent people in the bl\n",
      "her eccleston ) determined to kill memphis' kid brother ( gi\n",
      "you get out of jail , you can kill him . \" starring ashley j\n",
      "you get out of jail , you can kill him . \" starring ashley j\n",
      "survive basic training and to kill in combat . the road from\n"
     ]
    },
    {
     "name": "stdout",
     "output_type": "stream",
     "text": [
      "query> quit\n",
      "s funded by her mother . lucy quit working professionally 10\n",
      "erick . i disliked that movie quite a bit , but since \" prac\n",
      "t disaster . babe ruth didn't quit baseball after one season\n",
      "o-be fiance . i think she can quit that job and get a more r\n",
      " and rose mcgowan should just quit acting . she has no chari\n",
      "and get a day job . and don't quit it .                     \n",
      " kubrick , alas , should have quit while he was ahead . this\n",
      "everyone involved should have quit while they were still ahe\n",
      "l die . so what does joe do ? quit his job , of course ! ! w\n",
      "red \" implant . he's ready to quit the biz and get a portion\n",
      "hat he always recorded , they quit and become disillusioned \n",
      " admit that i ? ? ? ve become quite the \" scream \" fan . no \n",
      " again , the fact that he has quit his job to feel what it's\n",
      "school reunion . he has since quit his job as a travel journ\n",
      "ells one of his friends , \" i quit school because i didn't l\n",
      "ms , cursing off the boss and quitting his job ( \" today i q\n",
      "e , the arrival of the now ubiquitous videocassette . burt r\n",
      "in capitol city , that he has quit his job and hopes to open\n",
      "before his death at age 67 to quit filmmaking once a homosex\n",
      " - joss's explanation that he quit the priesthood because of\n",
      " is a former prosecutor , and quit because of tensions betwe\n"
     ]
    }
   ],
   "source": [
    "def raw(file):\n",
    "    contents = open(file).read()\n",
    "    contents = re.sub(r\"<.*?>\", \" \", contents)\n",
    "    contents = re.sub(\"\\s+\", \" \", contents)\n",
    "    return contents\n",
    "\n",
    "def snippet(doc, term):\n",
    "    text = \" \" * 30 + raw(doc) + \" \" * 30\n",
    "    pos = text.index(term)\n",
    "    return text[pos - 30: pos + 30]\n",
    "\n",
    "print(\"Building Index...\")\n",
    "files = nltk.corpus.movie_reviews.abspaths()\n",
    "idx = nltk.Index((w, f) for f in files for w in raw(f).split())\n",
    "\n",
    "query = \"\"\n",
    "while query != \"quit\":\n",
    "    query = input(\"query> \")\n",
    "    if query in idx:\n",
    "        for doc in idx[query]:\n",
    "            print(snippet(doc, query))\n",
    "    else:\n",
    "        print(\"Not found\")"
   ]
  },
  {
   "cell_type": "markdown",
   "metadata": {},
   "source": [
    "### Dynamic Programming\n",
    "Dynamic programming is a general technique for designing algorithms which is widely used in natural language processing. The term 'programming' is used in a different sense to what you might expect, to mean planning or scheduling. Dynamic programming is used when a problem contains overlapping sub-problems. Instead of computing solutions to these sub-problems repeatedly, we simply store them in a lookup table. In the remainder of this section we will introduce dynamic programming, but in a rather different context to syntactic parsing."
   ]
  },
  {
   "cell_type": "markdown",
   "metadata": {},
   "source": [
    "Pingala was an Indian author who lived around the 5th century B.C., and wrote a treatise on Sanskrit prosody called the Chandas Shastra. Virahanka extended this work around the 6th century A.D., studying the number of ways of combining short and long syllables to create a meter of length n. Short syllables, marked S, take up one unit of length, while long syllables, marked L, take two. Pingala found, for example, that there are five ways to construct a meter of length 4: V4 = {LL, SSL, SLS, LSS, SSSS}. Observe that we can split V4 into two subsets, those starting with L and those starting with S, as shown in (1)."
   ]
  },
  {
   "cell_type": "markdown",
   "metadata": {},
   "source": [
    "V4 =\n",
    "\n",
    "  LL, LSS\n",
    "    \n",
    "    i.e. L prefixed to each item of V2 = {L, SS}\n",
    "    \n",
    "  SSL, SLS, SSSS\n",
    "    \n",
    "    i.e. S prefixed to each item of V3 = {SL, LS, SSS"
   ]
  },
  {
   "cell_type": "code",
   "execution_count": 68,
   "metadata": {
    "scrolled": true
   },
   "outputs": [
    {
     "data": {
      "text/plain": [
       "['SS', 'L']"
      ]
     },
     "execution_count": 68,
     "metadata": {},
     "output_type": "execute_result"
    }
   ],
   "source": [
    "def virahanka1(n):\n",
    "    if n == 0:\n",
    "        return [\"\"]\n",
    "    elif n == 1:\n",
    "        return [\"S\"]\n",
    "    else:\n",
    "        s = [\"S\" + prosody for prosody in virahanka1(n - 1)] # start with S\n",
    "        l = [\"L\" + prosody for prosody in virahanka1(n - 2)] # start with L\n",
    "        return s + l\n",
    "    \n",
    "def virahanka2(n):\n",
    "    lookup = [[\"\"], [\"S\"]]\n",
    "    for i in range(n - 1):\n",
    "        s = [\"S\" + prosody for prosody in lookup[i + 1]]\n",
    "        l = [\"L\" + prosody for prosody in lookup[i]]\n",
    "        lookup.append(s + l)\n",
    "    return lookup[n]\n",
    "\n",
    "def virahanka3(n, lookup={0:[\"\"], 1:[\"S\"]}):\n",
    "    if n not in lookup:\n",
    "        s = [\"S\" + prosody for prosody in virahanka3(n - 1)]\n",
    "        l = [\"L\" + prosody for prosody in virahanka3(n - 2)]\n",
    "        lookup[n] = s + l\n",
    "    return lookup[n]\n",
    "\n",
    "virahanka1(2)"
   ]
  },
  {
   "cell_type": "markdown",
   "metadata": {},
   "source": [
    "## A Sample of Python Libraries\n",
    "Python has hundreds of third-party libraries, specialized software packages that extend the functionality of Python. NLTK is one such library. To realize the full power of Python programming, you should become familiar with several other libraries. Most of these will need to be manually installed on your computer."
   ]
  },
  {
   "cell_type": "markdown",
   "metadata": {},
   "source": [
    "### Matplotlib\n",
    "\n",
    "Python has some libraries that are useful for visualizing language data. The Matplotlib package supports sophisticated plotting functions with a MATLAB-style interface, and is available from http://matplotlib.sourceforge.net/.\n",
    "\n",
    "So far we have focused on textual presentation and the use of formatted print statements to get output lined up in columns. It is often very useful to display numerical data in graphical form, since this often makes it easier to detect patterns. For example, in 3.7 we saw a table of numbers showing the frequency of particular modal verbs in the Brown Corpus, classified by genre. The program in 4.13 presents the same information in graphical format. The output is shown in 4.14 (a color figure in the graphical display)."
   ]
  },
  {
   "cell_type": "code",
   "execution_count": 2,
   "metadata": {},
   "outputs": [
    {
     "data": {
      "image/png": "[encoded data removed]",
      "text/plain": [
       "<Figure size 432x288 with 1 Axes>"
      ]
     },
     "metadata": {
      "needs_background": "light"
     },
     "output_type": "display_data"
    }
   ],
   "source": [
    "import numpy as np\n",
    "import matplotlib.pyplot as plt\n",
    "\n",
    "colors = \"rgbcymk\" # red, green, blue, cyan, magenta, yellow, black\n",
    "\n",
    "def bar_chart(categories, words, counts):\n",
    "    \"Plot a bar chart showing counts for each word by category\"\n",
    "    ind = np.arange(len(words))\n",
    "    width = 1 / (len(categories) + 1)\n",
    "    bar_groups = []\n",
    "    for c in range(len(categories)):\n",
    "        bars = plt.bar(ind + c * width, counts[categories[c]], width,\n",
    "                      color=colors[c % len(colors)])\n",
    "        bar_groups.append(bars)\n",
    "    plt.xticks(ind + width, words)\n",
    "    plt.legend([b[0] for b in bar_groups], categories)\n",
    "    plt.ylabel(\"Frequency\")\n",
    "    plt.title(\"Frequency of Six Modal Verbs by Genre\")\n",
    "    plt.show()\n",
    "    \n",
    "genres = ['news', 'religion', 'hobbies', 'government', 'adventure']\n",
    "modals = ['can', 'could', 'may', 'might', 'must', 'will']\n",
    "cfdist = nltk.ConditionalFreqDist(\n",
    "                    (genre, word)\n",
    "                    for genre in genres\n",
    "                    for word in nltk.corpus.brown.words(categories=genre)\n",
    "                    if word in modals)\n",
    "\n",
    "counts = {}\n",
    "for genre in genres:\n",
    "    counts[genre] = [cfdist[genre][word] for word in modals]\n",
    "\n",
    "bar_chart(genres, modals, counts)"
   ]
  },
  {
   "cell_type": "markdown",
   "metadata": {},
   "source": [
    "### NetworkX\n",
    "The NetworkX package is for defining and manipulating structures consisting of nodes and edges, known as graphs. It is available from https://networkx.lanl.gov/. NetworkX can be used in conjunction with Matplotlib to visualize networks, such as WordNet (the semantic network we introduced in 5). The program in 4.15 initializes an empty graph [3] then traverses the WordNet hypernym hierarchy adding edges to the graph [1]. Notice that the traversal is recursive [2], applying the programming technique discussed in 4.7. The resulting display is shown in 4.16."
   ]
  },
  {
   "cell_type": "code",
   "execution_count": 8,
   "metadata": {},
   "outputs": [
    {
     "data": {
      "image/png": "[encoded data removed]",
      "text/plain": [
       "<Figure size 432x288 with 1 Axes>"
      ]
     },
     "metadata": {},
     "output_type": "display_data"
    }
   ],
   "source": [
    "import networkx as nx\n",
    "import matplotlib\n",
    "from nltk.corpus import wordnet as wn\n",
    "\n",
    "def traverse(graph, start, node):\n",
    "    graph.depth[node.name] = node.shortest_path_distance(start)\n",
    "    for child in node.hyponyms():\n",
    "        graph.add_edge(node.name, child.name)\n",
    "        traverse(graph, start, child)\n",
    "        \n",
    "def hyponym_graph(start):\n",
    "    G = nx.Graph()\n",
    "    G.depth = {}\n",
    "    traverse(G, start, start)\n",
    "    return G\n",
    "\n",
    "def graph_draw(graph):\n",
    "    nx.draw_networkx(graph,\n",
    "                    node_size = [16 * graph.degree(n) for n in graph],\n",
    "                    node_color = [graph.depth[n] for n in graph],\n",
    "                    with_labels = False)\n",
    "    matplotlib.pyplot.show()\n",
    "    \n",
    "dog = wn.synset(\"dog.n.01\")\n",
    "graph = hyponym_graph(dog)\n",
    "graph_draw(graph)"
   ]
  },
  {
   "cell_type": "code",
   "execution_count": 17,
   "metadata": {
    "scrolled": true
   },
   "outputs": [
    {
     "data": {
      "text/plain": [
       "['basenji.n.01',\n",
       " 'corgi.n.01',\n",
       " 'cur.n.01',\n",
       " 'dalmatian.n.02',\n",
       " 'great_pyrenees.n.01',\n",
       " 'griffon.n.02',\n",
       " 'hunting_dog.n.01',\n",
       " 'lapdog.n.01',\n",
       " 'leonberg.n.01',\n",
       " 'mexican_hairless.n.01',\n",
       " 'newfoundland.n.01',\n",
       " 'pooch.n.01',\n",
       " 'poodle.n.01',\n",
       " 'pug.n.01',\n",
       " 'puppy.n.01',\n",
       " 'spitz.n.01',\n",
       " 'toy_dog.n.01',\n",
       " 'working_dog.n.01']"
      ]
     },
     "execution_count": 17,
     "metadata": {},
     "output_type": "execute_result"
    }
   ],
   "source": [
    "dog = wn.synset(\"dog.n.01\")\n",
    "[d.name() for d in dog.hyponyms()]"
   ]
  }
 ],
 "metadata": {
  "kernelspec": {
   "display_name": "Python 3",
   "language": "python",
   "name": "python3"
  },
  "language_info": {
   "codemirror_mode": {
    "name": "ipython",
    "version": 3
   },
   "file_extension": ".py",
   "mimetype": "text/x-python",
   "name": "python",
   "nbconvert_exporter": "python",
   "pygments_lexer": "ipython3",
   "version": "3.7.6"
  }
 },
 "nbformat": 4,
 "nbformat_minor": 4
}
